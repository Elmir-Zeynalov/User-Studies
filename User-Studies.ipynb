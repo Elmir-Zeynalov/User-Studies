{
 "cells": [
  {
   "cell_type": "markdown",
   "metadata": {},
   "source": [
    "# User-Studies "
   ]
  },
  {
   "cell_type": "code",
   "execution_count": 697,
   "metadata": {},
   "outputs": [],
   "source": [
    "import pandas as pd\n",
    "import scipy.stats as stats\n",
    "from statsmodels.stats.multicomp import pairwise_tukeyhsd"
   ]
  },
  {
   "cell_type": "markdown",
   "metadata": {},
   "source": [
    "## Data Processing"
   ]
  },
  {
   "cell_type": "code",
   "execution_count": 713,
   "metadata": {},
   "outputs": [
    {
     "name": "stdout",
     "output_type": "stream",
     "text": [
      "Number of rows in pre_study before processing data: 154\n",
      "Number of rows in during_study before processing data: 469\n",
      "Number of rows in post_study before processing data: 122\n",
      "\n",
      "Duplicate 'CYSP' session IDs for participant 'G17P4': False\n",
      "Participant with ID 'grup16' in pre_study: False\n",
      "Participant with ID 'grup16' in during_study: False\n",
      "Participant with ID 'grup16' in post_study: False\n",
      "Participant with ID 'grup15' in pre_study: 0\n",
      "Participant with ID 'grup15' in during_study: 0\n",
      "Participant with ID 'grup15' in post_study: 0\n",
      "\n",
      "Rows in during_study with invalid session IDs before: 35\n",
      "Rows in during_study with invalid session IDs after: 0\n",
      "Participants in during_study with valid session counts (equal to 4): 81 = 324 rows\n",
      "\n",
      "Number of rows in pre_study before processing data: 83\n",
      "Number of rows in during_study before processing data: 324\n",
      "Number of rows in post_study before processing data: 78\n",
      "\n",
      "\n"
     ]
    }
   ],
   "source": [
    "# Read all files\n",
    "pre_study = pd.read_csv('Data/IN5060_fall24-pre-study.csv')\n",
    "during_study = pd.read_csv(\"Data/IN5060_fall24-during-study.csv\")\n",
    "post_study = pd.read_csv('Data/IN5060_fall24-post-study.csv')\n",
    "\n",
    "print(f\"Number of rows in pre_study before processing data: {pre_study.shape[0]}\")\n",
    "print(f\"Number of rows in during_study before processing data: {during_study.shape[0]}\")\n",
    "print(f\"Number of rows in post_study before processing data: {post_study.shape[0]}\\n\")\n",
    "\n",
    "session_id_col = \"Session ID (the last session that the participant has completed)\"\n",
    "participant_id_col = \"Participant ID (top-right corner of the screen)\"\n",
    "participant_id_during_col = \"Participant ID (top-right corner)\"\n",
    "# -------------------------------------------------------------------------------------------------------------------\n",
    "# ---------------------- REMOVE DIRTY DATA --------------------------------------------------------------------------\n",
    "# -------------------------------------------------------------------------------------------------------------------\n",
    "pre_study = pre_study[pre_study[\"Please indicate if you have any of the following health problems.\"] != \"Test\"]\n",
    "\n",
    "# Remove participant id \"grup16\"\n",
    "pre_study = pre_study[pre_study[participant_id_col] != \"grup16\"]\n",
    "during_study = during_study[during_study[participant_id_during_col] != \"grup16\"]\n",
    "post_study = post_study[post_study[participant_id_col] != \"grup16\"]\n",
    "\n",
    "# Remove participant ids containing \"group15\" in any dataset\n",
    "pre_study = pre_study[~pre_study[participant_id_col].str.contains(\"group15\", case=False)]\n",
    "during_study = during_study[~during_study[participant_id_during_col].str.contains(\"group15\", case=False)]\n",
    "post_study = post_study[~post_study[participant_id_col].str.contains(\"group15\", case=False)]\n",
    "\n",
    "# Remove duplicate session id CYSP for participant id G17P4\n",
    "g17p4_cysp = during_study[(during_study[participant_id_during_col] == \"G17P4\") & (during_study[session_id_col] == \"CYSP\")]\n",
    "g17p4_cysp_sorted = g17p4_cysp.sort_values(by=\"Timestamp\")\n",
    "if not g17p4_cysp_sorted.empty:\n",
    "    oldest_index = g17p4_cysp_sorted.index[0]\n",
    "    during_study.at[oldest_index, session_id_col] = \"ALICE\"\n",
    "\n",
    "# Print if there are duplicates for CYSP session ID for participant G17P4\n",
    "print(f\"Duplicate 'CYSP' session IDs for participant 'G17P4': {len(g17p4_cysp) > 1}\")\n",
    "\n",
    "# Print if any participant ID in any dataset contains \"grup16\"\n",
    "print(f\"Participant with ID 'grup16' in pre_study: {'grup16' in pre_study[participant_id_col].values}\")\n",
    "print(f\"Participant with ID 'grup16' in during_study: {'grup16' in during_study[participant_id_during_col].values}\")\n",
    "print(f\"Participant with ID 'grup16' in post_study: {'grup16' in post_study[participant_id_col].values}\")\n",
    "\n",
    "# Print the count of rows that had \"group15\" in the Participant ID for each dataset\n",
    "print(f\"Participant with ID 'grup15' in pre_study: {pre_study[pre_study[participant_id_col].str.contains('group15', case=False)].shape[0]}\")\n",
    "print(f\"Participant with ID 'grup15' in during_study: {during_study[during_study[participant_id_during_col].str.contains('group15', case=False)].shape[0]}\")\n",
    "print(f\"Participant with ID 'grup15' in post_study: {post_study[post_study[participant_id_col].str.contains('group15', case=False)].shape[0]}\")\n",
    "\n",
    "# -------------------------------------------------------------------------------------------------------------------\n",
    "# ---------------------- ENSURE SESSION ID EQUALS VOYAGER, ILLIAC, CYSP OR ALICE ------------------------------------\n",
    "# -------------------------------------------------------------------------------------------------------------------\n",
    "switch_ids = ['VOYAGER', 'ILLIAC', 'CYSP', 'ALICE']\n",
    "switch_rows = during_study[during_study[participant_id_during_col]\n",
    "                            .str.contains('|'.join(switch_ids), case=False, na=False)]\n",
    "\n",
    "# Swap Participant ID and Session ID for these rows\n",
    "for index, row in switch_rows.iterrows():\n",
    "    during_study.at[index, participant_id_during_col] = row[session_id_col]\n",
    "    during_study.at[index, session_id_col] = row[participant_id_during_col]\n",
    "\n",
    "# Fix writing mistakes\n",
    "replacements = {\n",
    "    r'(?i)ALLICE': 'ALICE',\n",
    "    r'(?i)iliac': 'ILLIAC',\n",
    "    r'(?i)ILLIAD': 'ILLIAC',\n",
    "    r'(?i)Crysp': 'CYSP'\n",
    "}\n",
    "\n",
    "# Replace session IDs using the dictionary\n",
    "for old_value, new_value in replacements.items():\n",
    "    during_study[session_id_col] = \\\n",
    "        during_study[session_id_col].replace(\n",
    "            to_replace=old_value, value=new_value, regex=True)\n",
    "\n",
    "# After fixing swap and correcting writing, how many invalid sessions are left?\n",
    "def get_invalid_sessions(df):\n",
    "    return df[~df[session_id_col]\n",
    "              .str.contains(\"VOYAGER|ILLIAC|CYSP|ALICE\", case=False, na=False)]\n",
    "\n",
    "invalid_sessions = get_invalid_sessions(during_study)\n",
    "print(f\"\\nRows in during_study with invalid session IDs before: {invalid_sessions.shape[0]}\")\n",
    "\n",
    "# Invalid sessions contain 35 rows, they have been investigated and we can drop them\n",
    "during_study = during_study.drop(invalid_sessions.index)\n",
    "\n",
    "invalid_sessions = get_invalid_sessions(during_study)\n",
    "print(f\"Rows in during_study with invalid session IDs after: {invalid_sessions.shape[0]}\")\n",
    "\n",
    "# -------------------------------------------------------------------------------------------------------------------\n",
    "# ---------------------- REMOVING PARTICIPANTS WHERE SESSION COUNT IS NOT 4 -----------------------------------------\n",
    "# -------------------------------------------------------------------------------------------------------------------\n",
    "# Group by Participant ID and check the number of unique session IDs\n",
    "session_count_per_participant = during_study.groupby(participant_id_during_col)[session_id_col].nunique()\n",
    "\n",
    "# Identify valid participants who have 4 unique session IDs\n",
    "valid_participants = session_count_per_participant[session_count_per_participant == 4].index\n",
    "\n",
    "# Display participants with valid session counts\n",
    "print(f\"Participants in during_study with valid session counts (equal to 4): {valid_participants.shape[0]} = {valid_participants.shape[0]*4} rows\")\n",
    "\n",
    "# Only keep valid participants\n",
    "during_study = during_study.query(\"`Participant ID (top-right corner)` in @valid_participants\")\n",
    "\n",
    "# -------------------------------------------------------------------------------------------------------------------\n",
    "# ---------------------- REMOVE INVALID PARTICIPANTS FROM PRE AND POST STUDY ----------------------------------------\n",
    "# -------------------------------------------------------------------------------------------------------------------\n",
    "valid_participant_ids = during_study[participant_id_during_col].unique()\n",
    "\n",
    "# Remove rows in pre_study and post_study where the participant ID is not present in during_study\n",
    "pre_study = pre_study[pre_study[participant_id_col].isin(valid_participant_ids)]\n",
    "post_study = post_study[post_study[participant_id_col].isin(valid_participant_ids)]\n",
    "\n",
    "# Pre and post study should have the same amount of participants\n",
    "common_participant_ids_pre = pre_study[participant_id_col].isin(post_study[participant_id_col])\n",
    "common_participant_ids_post = post_study[participant_id_col].isin(pre_study[participant_id_col])\n",
    "\n",
    "pre_study = pre_study[common_participant_ids_pre]\n",
    "post_study = post_study[common_participant_ids_post]\n",
    "\n",
    "# -------------------------------------------------------------------------------------------------------------------\n",
    "print(f\"\\nNumber of rows in pre_study before processing data: {pre_study.shape[0]}\")\n",
    "print(f\"Number of rows in during_study before processing data: {during_study.shape[0]}\")\n",
    "print(f\"Number of rows in post_study before processing data: {post_study.shape[0]}\")\n",
    "\n",
    "# Display all columns and expand display width\n",
    "pd.set_option('display.max_columns', None)     # Show all columns\n",
    "pd.set_option('display.width', 1000)           # Set the display width to fit large tables\n",
    "pd.set_option('display.max_colwidth', None)    # Show full column content without truncation\n",
    "pd.set_option('display.max_rows', None)        # Show all rows (remove this if there are too many rows)\n",
    "\n",
    "print(\"\\n\")\n",
    "#print(during_study.head(10))"
   ]
  },
  {
   "cell_type": "markdown",
   "metadata": {},
   "source": [
    "# Pre Study"
   ]
  },
  {
   "cell_type": "code",
   "execution_count": null,
   "metadata": {},
   "outputs": [],
   "source": []
  },
  {
   "cell_type": "markdown",
   "metadata": {},
   "source": [
    "# During Study"
   ]
  },
  {
   "cell_type": "markdown",
   "metadata": {},
   "source": [
    "Note to Caroline: As an initial test i wanted to checkout if i managed to get anything out of this ANOVA thing. So, i started out by looking at the one-way ANOVA test in the \"during-study\" and looked at the \"I felt excited\" data. I looked at the SessionIDs and tried to use the ANOVA test to determine if there is any sort of differences in \"Excitement\" between the different SessionId. It looks like there are statistical differences, revealed by the p-value, and a post-hoc analysis is required. \n",
    "\n",
    "We can probably look at other \"feelings\" and see how those look like across the SesisonIds. I guess we are using the SessionIds (the different rhythm profiles) as the base groups but idk if we should look at some other way of grouping? SessionIds seems to be alright for now, we can probably provide some analysis on that and say f.ex \"people really liked the ILLIAC profile\" "
   ]
  },
  {
   "cell_type": "code",
   "execution_count": null,
   "metadata": {},
   "outputs": [],
   "source": [
    "# Perform ANOVA on \"I felt excited\" across different \"Session ID\" groups\n",
    "anova_results = stats.f_oneway(\n",
    "    *[during_study[during_study['Session ID (the last session that the participant has completed)'] == session]['I felt excited']\n",
    "      for session in during_study['Session ID (the last session that the participant has completed)'].unique()]\n",
    ")\n",
    "\n",
    "print(\"F-statistic:\", anova_results.statistic)\n",
    "print(\"p-value:\", anova_results.pvalue)"
   ]
  },
  {
   "cell_type": "markdown",
   "metadata": {},
   "source": [
    "The ANOVA test results show an F-statistic of approximately 1.76 and a p-value of 0.0066. Since the p-value is below the typical significance level (e.g., 0.05), we can conclude that there are statistically significant differences in excitement levels across the different session types."
   ]
  },
  {
   "cell_type": "code",
   "execution_count": null,
   "metadata": {},
   "outputs": [],
   "source": [
    "# Prepare data for Tukey's HSD test\n",
    "session_data = during_study[['Session ID (the last session that the participant has completed)', 'I felt excited']].dropna()\n",
    "session_data.columns = ['SessionID', 'Excitement']\n",
    "\n",
    "tukey_results = pairwise_tukeyhsd(endog=session_data['Excitement'], groups=session_data['SessionID'], alpha=0.05)\n",
    "\n",
    "tukey_summary = tukey_results.summary()\n",
    "\n",
    "# Convert the summary to a pandas DataFrame for easier viewing\n",
    "tukey_df = pd.DataFrame(data=tukey_summary.data[1:], columns=tukey_summary.data[0])\n",
    "\n",
    "print(tukey_df)\n",
    "\n",
    "# Display the results\n",
    "#print(tukey_results.summary())"
   ]
  },
  {
   "cell_type": "markdown",
   "metadata": {},
   "source": [
    "# Post Study"
   ]
  }
 ],
 "metadata": {
  "kernelspec": {
   "display_name": "Python 3 (ipykernel)",
   "language": "python",
   "name": "python3"
  },
  "language_info": {
   "codemirror_mode": {
    "name": "ipython",
    "version": 3
   },
   "file_extension": ".py",
   "mimetype": "text/x-python",
   "name": "python",
   "nbconvert_exporter": "python",
   "pygments_lexer": "ipython3",
   "version": "3.12.4"
  }
 },
 "nbformat": 4,
 "nbformat_minor": 4
}
