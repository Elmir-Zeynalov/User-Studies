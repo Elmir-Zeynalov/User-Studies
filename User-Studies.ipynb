{
 "cells": [
  {
   "cell_type": "markdown",
   "metadata": {},
   "source": [
    "# User-Studies "
   ]
  },
  {
   "cell_type": "code",
   "execution_count": 2,
   "metadata": {},
   "outputs": [],
   "source": [
    "import pandas as pd"
   ]
  },
  {
   "cell_type": "code",
   "execution_count": 3,
   "metadata": {},
   "outputs": [
    {
     "name": "stdout",
     "output_type": "stream",
     "text": [
      "                      Timestamp Participant ID (top-right corner of the screen)  How old are you?            Gender?          What describes you the best?  How comfortable are you in expressing emotions? Have you ever played with the \"drummer bot\" dB before?  How much prior experience do you have with interactive musical interfaces (e.g. sensor systems, digital control devices)?  How often do you use AI tools for creativity (e.g., writing, coding, music, fine arts, food recipes, etc.)? Please indicate if you have any of the following health problems.\n",
      "0   2024/11/04 5:15:10 PM GMT+1                                            test                66  Prefer not to say    Student/semi-professional musician                                                3                                                    Yes                                                                                                                          4                                                                                                            4                                                              anan\n",
      "1  2024/11/05 12:45:26 PM GMT+1                                              11                11  Prefer not to say    Student/semi-professional musician                                                0                                                     No                                                                                                                          0                                                                                                            0                                                              Test\n",
      "2   2024/11/05 5:39:46 PM GMT+1                                       andsti-01                25               Male                   Avid music listener                                                2                                                     No                                                                                                                          2                                                                                                            1                                                               NaN\n",
      "3   2024/11/05 5:49:00 PM GMT+1                                       andsti-01                25               Male                   Avid music listener                                                2                                                     No                                                                                                                          2                                                                                                            1                                                               NaN\n",
      "4   2024/11/05 6:52:10 PM GMT+1                                          grup16                21             Female                   Avid music listener                                                4                                                     No                                                                                                                          0                                                                                                            2                                                               NaN\n",
      "5  2024/11/05 10:32:50 PM GMT+1                                       andsti-02                25             Female    Student/semi-professional musician                                                0                                                     No                                                                                                                          1                                                                                                            4                             ADHD;adhd er ikke en \"health problem\"\n",
      "6  2024/11/05 10:43:20 PM GMT+1                                               1                 2               Male                 Professional musician                                                0                                                    Yes                                                                                                                          0                                                                                                            0                                                  Hearing problems\n",
      "7  2024/11/06 12:08:45 AM GMT+1                                         kenanha                38               Male  Not particularly interested in music                                                4                                                     No                                                                                                                          3                                                                                                            4                                                  Hearing problems\n",
      "8  2024/11/06 12:13:31 AM GMT+1                                             Aos                11               Male  Not particularly interested in music                                                4                                                     No                                                                                                                          3                                                                                                            2                                                               NaN\n",
      "9  2024/11/06 11:27:51 AM GMT+1                                       andsti-03                22             Female                   Avid music listener                                                4                                                     No                                                                                                                          1                                                                                                            2                                                               NaN\n"
     ]
    }
   ],
   "source": [
    "df = pd.read_csv(\"Data/IN5060_fall24-Pre-study.csv\")\n",
    "#df.columns = df.columns.str.strip().str.replace(r'\\(.*?\\)', '', regex=True).str.replace(' ', '_')\n",
    "#print(df.columns)\n",
    "# Display all columns and expand display width\n",
    "pd.set_option('display.max_columns', None)     # Show all columns\n",
    "pd.set_option('display.width', 1000)           # Set the display width to fit large tables\n",
    "pd.set_option('display.max_colwidth', None)    # Show full column content without truncation\n",
    "pd.set_option('display.max_rows', None)        # Show all rows (remove this if there are too many rows)\n",
    "\n",
    "print(df.head(10))"
   ]
  }
 ],
 "metadata": {
  "kernelspec": {
   "display_name": "Python 3",
   "language": "python",
   "name": "python3"
  },
  "language_info": {
   "codemirror_mode": {
    "name": "ipython",
    "version": 3
   },
   "file_extension": ".py",
   "mimetype": "text/x-python",
   "name": "python",
   "nbconvert_exporter": "python",
   "pygments_lexer": "ipython3",
   "version": "3.11.9"
  }
 },
 "nbformat": 4,
 "nbformat_minor": 2
}
